{
  "nbformat": 4,
  "nbformat_minor": 0,
  "metadata": {
    "colab": {
      "provenance": [],
      "include_colab_link": true
    },
    "kernelspec": {
      "name": "python3",
      "display_name": "Python 3"
    },
    "language_info": {
      "name": "python"
    }
  },
  "cells": [
    {
      "cell_type": "markdown",
      "metadata": {
        "id": "view-in-github",
        "colab_type": "text"
      },
      "source": [
        "<a href=\"https://colab.research.google.com/github/PrabhudattaDash/Data-Science-AI-ML-using-Python/blob/main/Day_1_Home_Task_Python_Practice.ipynb\" target=\"_parent\"><img src=\"https://colab.research.google.com/assets/colab-badge.svg\" alt=\"Open In Colab\"/></a>"
      ]
    },
    {
      "cell_type": "code",
      "execution_count": null,
      "metadata": {
        "colab": {
          "base_uri": "https://localhost:8080/"
        },
        "id": "zGN9w3kEPKa2",
        "outputId": "abe59786-003d-4505-dad4-24fc3c8ed528"
      },
      "outputs": [
        {
          "output_type": "stream",
          "name": "stdout",
          "text": [
            "Enter item prices separated by comma: 50,60,70\n",
            "Total Bill: 180\n"
          ]
        }
      ],
      "source": [
        "#1\n",
        "items = input(\"Enter item prices separated by comma: \")\n",
        "items = items.split(',')\n",
        "total = 0\n",
        "for price in items:\n",
        "    total += int(price)\n",
        "print(\"Total Bill:\", total)\n",
        "\n"
      ]
    },
    {
      "cell_type": "code",
      "source": [
        "#2\n",
        "marks = input(\"Enter 5 subject marks separated by commas: \")\n",
        "marks_tuple = tuple(int(mark) for mark in marks.split(','))\n",
        "total = 0\n",
        "average = sum(marks_tuple) / 5\n",
        "print(\"Average:\", average)\n",
        "\n"
      ],
      "metadata": {
        "colab": {
          "base_uri": "https://localhost:8080/"
        },
        "id": "IlveWxYcTCEF",
        "outputId": "ebb30200-a4a5-4e49-cec2-bdc31fa49f4f"
      },
      "execution_count": null,
      "outputs": [
        {
          "output_type": "stream",
          "name": "stdout",
          "text": [
            "Enter 5 subject marks separated by commas: 90,91,92,98,97\n",
            "Average: 93.6\n"
          ]
        }
      ]
    },
    {
      "cell_type": "code",
      "source": [
        "#3\n",
        "email_list = input(\"Enter Emails separated by commas: \")\n",
        "email_set = set(email for email in email_list.split(','))\n",
        "print(email_set)"
      ],
      "metadata": {
        "id": "nEDAjmPbVra1",
        "colab": {
          "base_uri": "https://localhost:8080/"
        },
        "outputId": "6ac21f6e-6c7a-441c-e5c7-b5bd12237879"
      },
      "execution_count": null,
      "outputs": [
        {
          "output_type": "stream",
          "name": "stdout",
          "text": [
            "Enter Emails separated by commas: a@gmail.com,b@gmail.com,a@gmail.com\n",
            "{'b@gmail.com', 'a@gmail.com'}\n"
          ]
        }
      ]
    },
    {
      "cell_type": "code",
      "source": [
        "#4\n",
        "attendance = {}\n",
        "\n",
        "n = int(input(\"Enter number of students: \"))\n",
        "\n",
        "for _ in range(n):\n",
        "    name = input(\"Enter student name: \")\n",
        "    status = input(\"Enter attendance status (Present/Absent): \")\n",
        "    attendance[name] = status\n",
        "\n",
        "print(\"\\nAttendance Record:\")\n",
        "for name, status in attendance.items():\n",
        "    print(name + \" : \"+ status)"
      ],
      "metadata": {
        "colab": {
          "base_uri": "https://localhost:8080/"
        },
        "id": "f1K3wAr2049L",
        "outputId": "0204a259-c825-4e30-f090-d5d99b3a7d38"
      },
      "execution_count": null,
      "outputs": [
        {
          "output_type": "stream",
          "name": "stdout",
          "text": [
            "Enter number of students: 2\n",
            "Enter student name: Alice\n",
            "Enter attendance status (Present/Absent): Present\n",
            "Enter student name: Bob\n",
            "Enter attendance status (Present/Absent): Absent\n",
            "\n",
            "Attendance Record:\n",
            "Alice : Present\n",
            "Bob : Absent\n"
          ]
        }
      ]
    },
    {
      "cell_type": "code",
      "source": [
        "#4\n",
        "def attendance(DICT):\n",
        "  for name,status in DICT.items():\n",
        "    print(name +\": \"+status)\n",
        "\n",
        "DICT =  {'Alice': 'Present', 'Bob': 'Absent'}\n",
        "attendance(DICT)\n"
      ],
      "metadata": {
        "colab": {
          "base_uri": "https://localhost:8080/"
        },
        "id": "cFsmbxZp2F9x",
        "outputId": "6ea90894-0352-4dda-9479-409c47dc460b"
      },
      "execution_count": null,
      "outputs": [
        {
          "output_type": "stream",
          "name": "stdout",
          "text": [
            "Alice: Present\n",
            "Bob: Absent\n"
          ]
        }
      ]
    },
    {
      "cell_type": "code",
      "source": [
        "#5\n",
        "n = int(input(\"Enter Number to print Multiplication table: \"))\n",
        "for i in range(1,11,1):\n",
        "  print(n*i,end=(' '))"
      ],
      "metadata": {
        "colab": {
          "base_uri": "https://localhost:8080/"
        },
        "id": "I8l1UDSL3A5V",
        "outputId": "ce738031-d63b-45df-8d96-f5891af883fe"
      },
      "execution_count": null,
      "outputs": [
        {
          "output_type": "stream",
          "name": "stdout",
          "text": [
            "Enter Number to print Multiplication table: 4\n",
            "4 8 12 16 20 24 28 32 36 40 "
          ]
        }
      ]
    },
    {
      "cell_type": "code",
      "source": [
        "#6\n",
        "numbers = input(\"Enter numbers separated by commas: \")\n",
        "number_list = list(number for number in numbers.split(','))\n",
        "out_list = []\n",
        "p = 0\n",
        "for number in number_list:\n",
        "  p = int(number)*int(number)\n",
        "  out_list.append(p)\n",
        "\n",
        "print(out_list)"
      ],
      "metadata": {
        "colab": {
          "base_uri": "https://localhost:8080/"
        },
        "id": "hVT28IBmrtBF",
        "outputId": "067ea455-7ffe-44ca-ea4d-dfc0723bbcfb"
      },
      "execution_count": null,
      "outputs": [
        {
          "output_type": "stream",
          "name": "stdout",
          "text": [
            "Enter numbers separated by commas: 1,2,3\n",
            "[1, 4, 9]\n"
          ]
        }
      ]
    },
    {
      "cell_type": "code",
      "source": [
        "#7\n",
        "n = int(input(\"Enter an odd height for the diamond: \"))\n",
        "\n",
        "for i in range(1, n + 1, 2):\n",
        "    spaces = (n - i) // 2\n",
        "    print(' ' * spaces + '*' * i)\n",
        "\n",
        "for i in range(n - 2, 0, -2):\n",
        "    spaces = (n - i) // 2\n",
        "    print(' ' * spaces + '*' * i)"
      ],
      "metadata": {
        "colab": {
          "base_uri": "https://localhost:8080/"
        },
        "id": "NP3PxdIva1XR",
        "outputId": "23d6c70d-691f-492f-eac0-15dcfe2dde10"
      },
      "execution_count": null,
      "outputs": [
        {
          "output_type": "stream",
          "name": "stdout",
          "text": [
            "Enter an odd height for the diamond: 5\n",
            "  *\n",
            " ***\n",
            "*****\n",
            " ***\n",
            "  *\n"
          ]
        }
      ]
    },
    {
      "cell_type": "code",
      "source": [
        "#8\n",
        "input_str = input(\"Enter numbers separated by commas: \")\n",
        "numbers = tuple(map(int, input_str.replace(',',' ').split()))\n",
        "even = 0\n",
        "odd = 0\n",
        "for num in numbers:\n",
        "    if num % 2 == 0:\n",
        "        even += 1\n",
        "    else:\n",
        "        odd += 1\n",
        "\n",
        "print(\"Even:\", even, \", Odd:\", odd)\n",
        "\n"
      ],
      "metadata": {
        "colab": {
          "base_uri": "https://localhost:8080/"
        },
        "id": "GPOPGkmncDNE",
        "outputId": "cc3a3a06-9c40-4d03-fcf7-ab82fc055d36"
      },
      "execution_count": null,
      "outputs": [
        {
          "output_type": "stream",
          "name": "stdout",
          "text": [
            "Enter numbers separated by commas: 1,2,3,4,5\n",
            "Even: 2 , Odd: 3\n"
          ]
        }
      ]
    },
    {
      "cell_type": "code",
      "source": [
        "#9\n",
        "def unique_fruits(fruit_list):\n",
        "  fruit=set()\n",
        "  for i in fruit_list:\n",
        "    if i not in fruit:\n",
        "      fruit.add(i)\n",
        "  return fruit\n",
        "\n",
        "fruits = ['apple', 'banana', 'apple', 'orange']\n",
        "unique_fruits(fruits)"
      ],
      "metadata": {
        "colab": {
          "base_uri": "https://localhost:8080/"
        },
        "id": "XM8hX0UodXot",
        "outputId": "75896b2f-2f4f-4c32-a34c-935d203beca6"
      },
      "execution_count": null,
      "outputs": [
        {
          "output_type": "execute_result",
          "data": {
            "text/plain": [
              "{'apple', 'banana', 'orange'}"
            ]
          },
          "metadata": {},
          "execution_count": 45
        }
      ]
    },
    {
      "cell_type": "code",
      "source": [
        "#10\n",
        "def total_marks(dict1):\n",
        "  tm = 0\n",
        "  for key,i in dict1.items():\n",
        "    tm +=i\n",
        "  return \"Total marks = \" + str(tm)\n",
        "\n",
        "marks = {'Math': 70, 'English': 80, 'Science': 75}\n",
        "total_marks(marks)"
      ],
      "metadata": {
        "colab": {
          "base_uri": "https://localhost:8080/",
          "height": 36
        },
        "id": "qRl47cAvfMWI",
        "outputId": "46f9f56d-17f8-47f9-ac60-5b9b78b91361"
      },
      "execution_count": null,
      "outputs": [
        {
          "output_type": "execute_result",
          "data": {
            "text/plain": [
              "'Total marks = 225'"
            ],
            "application/vnd.google.colaboratory.intrinsic+json": {
              "type": "string"
            }
          },
          "metadata": {},
          "execution_count": 46
        }
      ]
    },
    {
      "cell_type": "code",
      "source": [
        "#11\n",
        "def reverse_list(list1):\n",
        "  reverse =[0]\n",
        "  for i in list1:\n",
        "    reverse.insert(0,i)\n",
        "  reverse.pop(-1)\n",
        "  return reverse\n",
        "list1 = [10, 20, 30]\n",
        "reverse_list(list1)"
      ],
      "metadata": {
        "colab": {
          "base_uri": "https://localhost:8080/"
        },
        "id": "yBxgvm5vgoqK",
        "outputId": "baea18ba-6498-43d8-cce6-e7b54716f637"
      },
      "execution_count": null,
      "outputs": [
        {
          "output_type": "execute_result",
          "data": {
            "text/plain": [
              "[30, 20, 10]"
            ]
          },
          "metadata": {},
          "execution_count": 47
        }
      ]
    },
    {
      "cell_type": "code",
      "source": [
        "#12\n",
        "def login(user_name):\n",
        "  key = \"admin\"\n",
        "  if user_name == key:\n",
        "    return \"login successful\"\n",
        "  else:\n",
        "    return \"User name mismatch\"\n",
        "\n",
        "user = \"admin\"\n",
        "login(user)"
      ],
      "metadata": {
        "colab": {
          "base_uri": "https://localhost:8080/",
          "height": 36
        },
        "id": "m02qx3Kkh6R0",
        "outputId": "046189c0-ce38-4cd2-d0dd-0d2c98159e4e"
      },
      "execution_count": null,
      "outputs": [
        {
          "output_type": "execute_result",
          "data": {
            "text/plain": [
              "'login successful'"
            ],
            "application/vnd.google.colaboratory.intrinsic+json": {
              "type": "string"
            }
          },
          "metadata": {},
          "execution_count": 48
        }
      ]
    },
    {
      "cell_type": "code",
      "source": [
        "#13\n",
        "def library_count(dict1):\n",
        "  book_count = 0\n",
        "  for key,i in dict1.items():\n",
        "    book_count +=i\n",
        "  return \"Total Books = \" + str(book_count)\n",
        "\n",
        "books = {'Math': 5, 'History': 4, 'English': 6}\n",
        "library_count(books)"
      ],
      "metadata": {
        "colab": {
          "base_uri": "https://localhost:8080/",
          "height": 36
        },
        "id": "a9Hicit9isEu",
        "outputId": "4bda721d-a663-4912-98fe-92794f9eae0e"
      },
      "execution_count": null,
      "outputs": [
        {
          "output_type": "execute_result",
          "data": {
            "text/plain": [
              "'Total Books = 15'"
            ],
            "application/vnd.google.colaboratory.intrinsic+json": {
              "type": "string"
            }
          },
          "metadata": {},
          "execution_count": 49
        }
      ]
    },
    {
      "cell_type": "code",
      "source": [
        "#14\n",
        "for i in range(1,21,1):\n",
        "  if i%3 == 0:\n",
        "    print(i,end = \", \")"
      ],
      "metadata": {
        "colab": {
          "base_uri": "https://localhost:8080/"
        },
        "id": "sXdMKUlajrbT",
        "outputId": "649fbaa5-95bb-4cfd-edf8-f83ccb222cfe"
      },
      "execution_count": null,
      "outputs": [
        {
          "output_type": "stream",
          "name": "stdout",
          "text": [
            "3, 6, 9, 12, 15, 18, "
          ]
        }
      ]
    },
    {
      "cell_type": "code",
      "source": [
        "#15\n",
        "def compare_list(list1,list2):\n",
        "  list3 = []\n",
        "  for i in list1:\n",
        "    for j in list2:\n",
        "      if i == j:\n",
        "        list3.append(i)\n",
        "  return list3\n",
        "list1 = [1,2,3]\n",
        "list2 = [2,3,4]\n",
        "compare_list(list1,list2)"
      ],
      "metadata": {
        "colab": {
          "base_uri": "https://localhost:8080/"
        },
        "id": "7myaKORQlA4w",
        "outputId": "d04dccc8-ca04-4813-dc9f-66722a959f50"
      },
      "execution_count": null,
      "outputs": [
        {
          "output_type": "execute_result",
          "data": {
            "text/plain": [
              "[2, 3]"
            ]
          },
          "metadata": {},
          "execution_count": 51
        }
      ]
    },
    {
      "cell_type": "code",
      "source": [
        "#16\n",
        "def vowel_counter(str1):\n",
        "  key = {'a','e','i','o','u','A','E','I','O','U'}\n",
        "  vowel_count = 0\n",
        "  for i in str1:\n",
        "    if i in key:\n",
        "      vowel_count +=1\n",
        "  return vowel_count\n",
        "\n",
        "str1 = input(\"Enter a string to check for vowels: \")\n",
        "vowel_counter(str1)"
      ],
      "metadata": {
        "colab": {
          "base_uri": "https://localhost:8080/"
        },
        "id": "Q_oPwUn7l0VW",
        "outputId": "2ddf6f3f-bead-43d1-f24a-c30a492d54fb"
      },
      "execution_count": null,
      "outputs": [
        {
          "name": "stdout",
          "output_type": "stream",
          "text": [
            "Enter a string to check for vowels: education\n"
          ]
        },
        {
          "output_type": "execute_result",
          "data": {
            "text/plain": [
              "5"
            ]
          },
          "metadata": {},
          "execution_count": 52
        }
      ]
    },
    {
      "cell_type": "code",
      "source": [
        "#17\n",
        "def duplicate_remove(list1):\n",
        "  unique = set(list1)\n",
        "  list2 = list(unique)\n",
        "  return list2\n",
        "\n",
        "list1 = [1, 1, 2, 3, 3]\n",
        "duplicate_remove(list1)"
      ],
      "metadata": {
        "colab": {
          "base_uri": "https://localhost:8080/"
        },
        "id": "7wkTDy3-m4uc",
        "outputId": "bf626716-7b98-4342-d898-e726c71e9db8"
      },
      "execution_count": null,
      "outputs": [
        {
          "output_type": "execute_result",
          "data": {
            "text/plain": [
              "[1, 2, 3]"
            ]
          },
          "metadata": {},
          "execution_count": 53
        }
      ]
    },
    {
      "cell_type": "code",
      "source": [
        "#18\n",
        "def rank_dict(dict1):\n",
        "  for rank,name in dict1.items():\n",
        "    print(rank, \" - \",name)\n",
        "\n",
        "\"\"\"dict1 = {1: 'John', 2: 'Alice'}\"\"\"\n",
        "dict1 = {}\n",
        "\n",
        "n = int(input(\"Enter number of students: \"))\n",
        "\n",
        "for _ in range(n):\n",
        "    name = input(\"Enter student name: \")\n",
        "    rank =int(input(\"Enter rank: \"))\n",
        "    dict1[rank] = name\n",
        "dict1 = dict(sorted(dict1.items()))\n",
        "rank_dict(dict1)"
      ],
      "metadata": {
        "colab": {
          "base_uri": "https://localhost:8080/"
        },
        "id": "tIi9Wd59nqhW",
        "outputId": "55379f5f-f75a-45d1-d06a-992d81ae9ac6"
      },
      "execution_count": null,
      "outputs": [
        {
          "output_type": "stream",
          "name": "stdout",
          "text": [
            "Enter number of students: 2\n",
            "Enter student name: Alice\n",
            "Enter rank: 2\n",
            "Enter student name: John\n",
            "Enter rank: 1\n",
            "1  -  John\n",
            "2  -  Alice\n"
          ]
        }
      ]
    },
    {
      "cell_type": "code",
      "source": [
        "#19\n",
        "n = int(input(\"Range 1: \"))\n",
        "m = int(input(\"Range 2: \"))\n",
        "\n",
        "for i in range(n):\n",
        "  for j in range(m):\n",
        "    print(\"(\",i,\",\",j,\")\")"
      ],
      "metadata": {
        "colab": {
          "base_uri": "https://localhost:8080/"
        },
        "id": "QnbqXDrzrEt4",
        "outputId": "5f5e04d6-8053-40e2-92c3-2423fa9c6e2f"
      },
      "execution_count": null,
      "outputs": [
        {
          "output_type": "stream",
          "name": "stdout",
          "text": [
            "Range 1: 2\n",
            "Range 2: 3\n",
            "( 0 , 0 )\n",
            "( 0 , 1 )\n",
            "( 0 , 2 )\n",
            "( 1 , 0 )\n",
            "( 1 , 1 )\n",
            "( 1 , 2 )\n"
          ]
        }
      ]
    },
    {
      "cell_type": "code",
      "source": [
        "#20\n",
        "password = input(\"Enter password: \")\n",
        "letter = False\n",
        "digit = False\n",
        "\n",
        "for char in password:\n",
        "    if ('a' <= char <= 'z') or ('A' <= char <= 'Z'):\n",
        "        letter = True\n",
        "    elif '0' <= char <= '9':\n",
        "        digit = True\n",
        "\n",
        "if letter and digit:\n",
        "    print(\"Strong Password\")\n",
        "else:\n",
        "    print(\"Weak Password\")\n"
      ],
      "metadata": {
        "colab": {
          "base_uri": "https://localhost:8080/"
        },
        "id": "T-YzAuo0sgGw",
        "outputId": "368f0884-e76e-4a75-d34f-29f404ee03e5"
      },
      "execution_count": null,
      "outputs": [
        {
          "output_type": "stream",
          "name": "stdout",
          "text": [
            "Enter password: pass123\n",
            "Strong Password\n"
          ]
        }
      ]
    }
  ]
}